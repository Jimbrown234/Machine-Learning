{
 "cells": [
  {
   "cell_type": "markdown",
   "metadata": {},
   "source": [
    "# Task 1: Create a Prescription Parser using CRF\n",
    "This task tests your ability to build a Doctor Prescription Parser with the help of CRF model\n",
    "\n",
    "Your job is to build a Prescription Parser that takes a prescription (sentence) as an input and find / label the words in that sentence with one of the already pre-defined labels\n",
    "\n",
    "### Problem: SEQUENCE PREDICTION - Label words in a sentence\n",
    "#### Input : Doctor Prescription in the form of a sentence split into tokens\n",
    "- Ex: Take 2 tablets once a day for 10 days\n",
    "\n",
    "#### Output : FHIR Labels\n",
    "- ('Take', 'Method')\n",
    "- ('2', 'Qty') \n",
    "- ('tablets', 'Form')\n",
    "- ('once', 'Frequency')\n",
    "- ('a', 'Period') \n",
    "- ('day', 'PeriodUnit')\n",
    "- ('for', 'FOR')\n",
    "- ('10', 'Duration')\n",
    "- ('days', 'DurationUnit') "
   ]
  },
  {
   "cell_type": "markdown",
   "metadata": {},
   "source": [
    "### Major Steps\n",
    "- Install necessary library\n",
    "- Import the libraries\n",
    "- Create training data with labels\n",
    "    - Split the sentence into tokens\n",
    "    - Compute POS tags\n",
    "    - Create triples\n",
    "- Extract features\n",
    "- Split the data into training and testing set\n",
    "- Create CRF model\n",
    "- Save the CRF model\n",
    "- Load the CRF model\n",
    "- Predict on test data\n",
    "- Accuracy"
   ]
  },
  {
   "cell_type": "markdown",
   "metadata": {},
   "source": [
    "#### Install necesaary library"
   ]
  },
  {
   "cell_type": "code",
   "execution_count": null,
   "metadata": {},
   "outputs": [],
   "source": []
  },
  {
   "cell_type": "markdown",
   "metadata": {},
   "source": [
    "#### Import the necessary libraries"
   ]
  },
  {
   "cell_type": "code",
   "execution_count": 27,
   "metadata": {},
   "outputs": [],
   "source": [
    "from nltk.tag import pos_tag\n",
    "from sklearn_crfsuite import CRF, metrics\n",
    "from sklearn.metrics import make_scorer,confusion_matrix\n",
    "from pprint import pprint\n",
    "from sklearn.metrics import f1_score,classification_report\n",
    "from sklearn.pipeline import Pipeline\n",
    "import string\n",
    "import numpy as np"
   ]
  },
  {
   "cell_type": "markdown",
   "metadata": {},
   "source": [
    "### Input data (GIVEN)\n",
    "#### Creating the inputs to the ML model in the following form:\n",
    "- sigs --> ['take 3 tabs for 10 days']       INPUT SIG\n",
    "- input_sigs --> [['take', '3', 'tabs', 'for', '10', 'days']]      TOKENS\n",
    "- output_labels --> [['Method','Qty', 'Form', 'FOR', 'Duration', 'DurationUnit']]       LABELS"
   ]
  },
  {
   "cell_type": "code",
   "execution_count": 2,
   "metadata": {},
   "outputs": [],
   "source": [
    "sigs = [\"for 5 to 6 days\", \"inject 2 units\", \"x 2 weeks\", \"x 3 days\", \"every day\", \"every 2 weeks\", \"every 3 days\", \"every 1 to 2 months\", \"every 2 to 6 weeks\", \"every 4 to 6 days\", \"take two to four tabs\", \"take 2 to 4 tabs\", \"take 3 tabs orally bid for 10 days at bedtime\", \"swallow three capsules tid orally\", \"take 2 capsules po every 6 hours\", \"take 2 tabs po for 10 days\", \"take 100 caps by mouth tid for 10 weeks\", \"take 2 tabs after an hour\", \"2 tabs every 4-6 hours\", \"every 4 to 6 hours\", \"q46h\", \"q4-6h\", \"2 hours before breakfast\", \"before 30 mins at bedtime\", \"30 mins before bed\", \"and 100 tabs twice a month\", \"100 tabs twice a month\", \"100 tabs once a month\", \"100 tabs thrice a month\", \"3 tabs daily for 3 days then 1 tab per day at bed\", \"30 tabs 10 days tid\", \"take 30 tabs for 10 days three times a day\", \"qid q6h\", \"bid\", \"qid\", \"30 tabs before dinner and bedtime\", \"30 tabs before dinner & bedtime\", \"take 3 tabs at bedtime\", \"30 tabs thrice daily for 10 days \", \"30 tabs for 10 days three times a day\", \"Take 2 tablets a day\", \"qid for 10 days\", \"every day\", \"take 2 caps at bedtime\", \"apply 3 drops before bedtime\", \"take three capsules daily\", \"swallow 3 pills once a day\", \"swallow three pills thrice a day\", \"apply daily\", \"apply three drops before bedtime\", \"every 6 hours\", \"before food\", \"after food\", \"for 20 days\", \"for twenty days\", \"with meals\"]\n",
    "input_sigs = [['for', '5', 'to', '6', 'days'], ['inject', '2', 'units'], ['x', '2', 'weeks'], ['x', '3', 'days'], ['every', 'day'], ['every', '2', 'weeks'], ['every', '3', 'days'], ['every', '1', 'to', '2', 'months'], ['every', '2', 'to', '6', 'weeks'], ['every', '4', 'to', '6', 'days'], ['take', 'two', 'to', 'four', 'tabs'], ['take', '2', 'to', '4', 'tabs'], ['take', '3', 'tabs', 'orally', 'bid', 'for', '10', 'days', 'at', 'bedtime'], ['swallow', 'three', 'capsules', 'tid', 'orally'], ['take', '2', 'capsules', 'po', 'every', '6', 'hours'], ['take', '2', 'tabs', 'po', 'for', '10', 'days'], ['take', '100', 'caps', 'by', 'mouth', 'tid', 'for', '10', 'weeks'], ['take', '2', 'tabs', 'after', 'an', 'hour'], ['2', 'tabs', 'every', '4-6', 'hours'], ['every', '4', 'to', '6', 'hours'], ['q46h'], ['q4-6h'], ['2', 'hours', 'before', 'breakfast'], ['before', '30', 'mins', 'at', 'bedtime'], ['30', 'mins', 'before', 'bed'], ['and', '100', 'tabs', 'twice', 'a', 'month'], ['100', 'tabs', 'twice', 'a', 'month'], ['100', 'tabs', 'once', 'a', 'month'], ['100', 'tabs', 'thrice', 'a', 'month'], ['3', 'tabs', 'daily', 'for', '3', 'days', 'then', '1', 'tab', 'per', 'day', 'at', 'bed'], ['30', 'tabs', '10', 'days', 'tid'], ['take', '30', 'tabs', 'for', '10', 'days', 'three', 'times', 'a', 'day'], ['qid', 'q6h'], ['bid'], ['qid'], ['30', 'tabs', 'before', 'dinner', 'and', 'bedtime'], ['30', 'tabs', 'before', 'dinner', '&', 'bedtime'], ['take', '3', 'tabs', 'at', 'bedtime'], ['30', 'tabs', 'thrice', 'daily', 'for', '10', 'days'], ['30', 'tabs', 'for', '10', 'days', 'three', 'times', 'a', 'day'], ['take', '2', 'tablets', 'a', 'day'], ['qid', 'for', '10', 'days'], ['every', 'day'], ['take', '2', 'caps', 'at', 'bedtime'], ['apply', '3', 'drops', 'before', 'bedtime'], ['take', 'three', 'capsules', 'daily'], ['swallow', '3', 'pills', 'once', 'a', 'day'], ['swallow', 'three', 'pills', 'thrice', 'a', 'day'], ['apply', 'daily'], ['apply', 'three', 'drops', 'before', 'bedtime'], ['every', '6', 'hours'], ['before', 'food'], ['after', 'food'], ['for', '20', 'days'], ['for', 'twenty', 'days'], ['with', 'meals']]\n",
    "output_labels = [['FOR', 'Duration', 'TO', 'DurationMax', 'DurationUnit'], ['Method', 'Qty', 'Form'], ['FOR', 'Duration', 'DurationUnit'], ['FOR', 'Duration', 'DurationUnit'], ['EVERY', 'Period'], ['EVERY', 'Period', 'PeriodUnit'], ['EVERY', 'Period', 'PeriodUnit'], ['EVERY', 'Period', 'TO', 'PeriodMax', 'PeriodUnit'], ['EVERY', 'Period', 'TO', 'PeriodMax', 'PeriodUnit'], ['EVERY', 'Period', 'TO', 'PeriodMax', 'PeriodUnit'], ['Method', 'Qty', 'TO', 'Qty', 'Form'], ['Method', 'Qty', 'TO', 'Qty', 'Form'], ['Method', 'Qty', 'Form', 'PO', 'BID', 'FOR', 'Duration', 'DurationUnit', 'AT', 'WHEN'], ['Method', 'Qty', 'Form', 'TID', 'PO'], ['Method', 'Qty', 'Form', 'PO', 'EVERY', 'Period', 'PeriodUnit'], ['Method', 'Qty', 'Form', 'PO', 'FOR', 'Duration', 'DurationUnit'], ['Method', 'Qty', 'Form', 'BY', 'PO', 'TID', 'FOR', 'Duration', 'DurationUnit'], ['Method', 'Qty', 'Form', 'AFTER', 'Period', 'PeriodUnit'], ['Qty', 'Form', 'EVERY', 'Period', 'PeriodUnit'], ['EVERY', 'Period', 'TO', 'PeriodMax', 'PeriodUnit'], ['Q46H'], ['Q4-6H'], ['Qty', 'PeriodUnit', 'BEFORE', 'WHEN'], ['BEFORE', 'Qty', 'M', 'AT', 'WHEN'], ['Qty', 'M', 'BEFORE', 'WHEN'], ['AND', 'Qty', 'Form', 'Frequency', 'Period', 'PeriodUnit'], ['Qty', 'Form', 'Frequency', 'Period', 'PeriodUnit'], ['Qty', 'Form', 'Frequency', 'Period', 'PeriodUnit'], ['Qty', 'Form', 'Frequency', 'Period', 'PeriodUnit'], ['Qty', 'Form', 'Frequency', 'FOR', 'Duration', 'DurationUnit', 'THEN', 'Qty', 'Form', 'Frequency', 'PeriodUnit', 'AT', 'WHEN'], ['Qty', 'Form', 'Duration', 'DurationUnit', 'TID'], ['Method', 'Qty', 'Form', 'FOR', 'Duration', 'DurationUnit', 'Qty', 'TIMES', 'Period', 'PeriodUnit'], ['QID', 'Q6H'], ['BID'], ['QID'],['Qty', 'Form', 'BEFORE', 'WHEN', 'AND', 'WHEN'], ['Qty', 'Form', 'BEFORE', 'WHEN', 'AND', 'WHEN'], ['Method', 'Qty', 'Form', 'AT', 'WHEN'], ['Qty', 'Form', 'Frequency', 'DAILY', 'FOR', 'Duration', 'DurationUnit'], ['Qty', 'Form', 'FOR', 'Duration', 'DurationUnit', 'Frequency', 'TIMES', 'Period', 'PeriodUnit'], ['Method', 'Qty', 'Form', 'Period', 'PeriodUnit'], ['QID', 'FOR', 'Duration', 'DurationUnit'], ['EVERY', 'PeriodUnit'], ['Method', 'Qty', 'Form', 'AT', 'WHEN'], ['Method', 'Qty', 'Form', 'BEFORE', 'WHEN'], ['Method', 'Qty', 'Form', 'DAILY'], ['Method', 'Qty', 'Form', 'Frequency', 'Period', 'PeriodUnit'], ['Method', 'Qty', 'Form', 'Frequency', 'Period', 'PeriodUnit'], ['Method', 'DAILY'], ['Method', 'Qty', 'Form', 'BEFORE', 'WHEN'], ['EVERY', 'Period', 'PeriodUnit'], ['BEFORE', 'FOOD'], ['AFTER', 'FOOD'], ['FOR', 'Duration', 'DurationUnit'], ['FOR', 'Duration', 'DurationUnit'], ['WITH', 'FOOD']]"
   ]
  },
  {
   "cell_type": "code",
   "execution_count": 3,
   "metadata": {},
   "outputs": [
    {
     "data": {
      "text/plain": [
       "(56, 56, 56)"
      ]
     },
     "execution_count": 3,
     "metadata": {},
     "output_type": "execute_result"
    }
   ],
   "source": [
    "len(sigs), len(input_sigs) , len(output_labels)"
   ]
  },
  {
   "cell_type": "markdown",
   "metadata": {},
   "source": [
    "### Creating a Tuples Maker method\n",
    "Create the tuples as given below by writing a function **tuples_maker(input_sigs, output_labels)** and returns **output** as given below\n",
    "\n",
    "Input(s): \n",
    "- input_sigs\n",
    "- output_lables\n",
    "\n",
    "Output:\n",
    "\n",
    "[[('for', 'FOR'),\n",
    "  ('5', 'Duration'),\n",
    "  ('to', 'TO'),\n",
    "  ('6', 'DurationMax'),\n",
    "  ('days', 'DurationUnit')], [second sentence], ...]"
   ]
  },
  {
   "cell_type": "code",
   "execution_count": 3,
   "metadata": {},
   "outputs": [],
   "source": [
    "def tuples_maker(inp, out):\n",
    "    sample_data = []\n",
    "    for j in range(len(inp)):\n",
    "        inp_data = []\n",
    "        for i in range(len(inp[j])):\n",
    "            tple = (inp[j][i],out[j][i])\n",
    "            inp_data.append(tple)\n",
    "        sample_data.append(inp_data)\n",
    "    return sample_data"
   ]
  },
  {
   "cell_type": "code",
   "execution_count": 4,
   "metadata": {},
   "outputs": [
    {
     "data": {
      "text/plain": [
       "[[('for', 'FOR'),\n",
       "  ('5', 'Duration'),\n",
       "  ('to', 'TO'),\n",
       "  ('6', 'DurationMax'),\n",
       "  ('days', 'DurationUnit')],\n",
       " [('inject', 'Method'), ('2', 'Qty'), ('units', 'Form')],\n",
       " [('x', 'FOR'), ('2', 'Duration'), ('weeks', 'DurationUnit')],\n",
       " [('x', 'FOR'), ('3', 'Duration'), ('days', 'DurationUnit')],\n",
       " [('every', 'EVERY'), ('day', 'Period')],\n",
       " [('every', 'EVERY'), ('2', 'Period'), ('weeks', 'PeriodUnit')],\n",
       " [('every', 'EVERY'), ('3', 'Period'), ('days', 'PeriodUnit')],\n",
       " [('every', 'EVERY'),\n",
       "  ('1', 'Period'),\n",
       "  ('to', 'TO'),\n",
       "  ('2', 'PeriodMax'),\n",
       "  ('months', 'PeriodUnit')],\n",
       " [('every', 'EVERY'),\n",
       "  ('2', 'Period'),\n",
       "  ('to', 'TO'),\n",
       "  ('6', 'PeriodMax'),\n",
       "  ('weeks', 'PeriodUnit')],\n",
       " [('every', 'EVERY'),\n",
       "  ('4', 'Period'),\n",
       "  ('to', 'TO'),\n",
       "  ('6', 'PeriodMax'),\n",
       "  ('days', 'PeriodUnit')],\n",
       " [('take', 'Method'),\n",
       "  ('two', 'Qty'),\n",
       "  ('to', 'TO'),\n",
       "  ('four', 'Qty'),\n",
       "  ('tabs', 'Form')],\n",
       " [('take', 'Method'),\n",
       "  ('2', 'Qty'),\n",
       "  ('to', 'TO'),\n",
       "  ('4', 'Qty'),\n",
       "  ('tabs', 'Form')],\n",
       " [('take', 'Method'),\n",
       "  ('3', 'Qty'),\n",
       "  ('tabs', 'Form'),\n",
       "  ('orally', 'PO'),\n",
       "  ('bid', 'BID'),\n",
       "  ('for', 'FOR'),\n",
       "  ('10', 'Duration'),\n",
       "  ('days', 'DurationUnit'),\n",
       "  ('at', 'AT'),\n",
       "  ('bedtime', 'WHEN')],\n",
       " [('swallow', 'Method'),\n",
       "  ('three', 'Qty'),\n",
       "  ('capsules', 'Form'),\n",
       "  ('tid', 'TID'),\n",
       "  ('orally', 'PO')],\n",
       " [('take', 'Method'),\n",
       "  ('2', 'Qty'),\n",
       "  ('capsules', 'Form'),\n",
       "  ('po', 'PO'),\n",
       "  ('every', 'EVERY'),\n",
       "  ('6', 'Period'),\n",
       "  ('hours', 'PeriodUnit')],\n",
       " [('take', 'Method'),\n",
       "  ('2', 'Qty'),\n",
       "  ('tabs', 'Form'),\n",
       "  ('po', 'PO'),\n",
       "  ('for', 'FOR'),\n",
       "  ('10', 'Duration'),\n",
       "  ('days', 'DurationUnit')],\n",
       " [('take', 'Method'),\n",
       "  ('100', 'Qty'),\n",
       "  ('caps', 'Form'),\n",
       "  ('by', 'BY'),\n",
       "  ('mouth', 'PO'),\n",
       "  ('tid', 'TID'),\n",
       "  ('for', 'FOR'),\n",
       "  ('10', 'Duration'),\n",
       "  ('weeks', 'DurationUnit')],\n",
       " [('take', 'Method'),\n",
       "  ('2', 'Qty'),\n",
       "  ('tabs', 'Form'),\n",
       "  ('after', 'AFTER'),\n",
       "  ('an', 'Period'),\n",
       "  ('hour', 'PeriodUnit')],\n",
       " [('2', 'Qty'),\n",
       "  ('tabs', 'Form'),\n",
       "  ('every', 'EVERY'),\n",
       "  ('4-6', 'Period'),\n",
       "  ('hours', 'PeriodUnit')],\n",
       " [('every', 'EVERY'),\n",
       "  ('4', 'Period'),\n",
       "  ('to', 'TO'),\n",
       "  ('6', 'PeriodMax'),\n",
       "  ('hours', 'PeriodUnit')],\n",
       " [('q46h', 'Q46H')],\n",
       " [('q4-6h', 'Q4-6H')],\n",
       " [('2', 'Qty'),\n",
       "  ('hours', 'PeriodUnit'),\n",
       "  ('before', 'BEFORE'),\n",
       "  ('breakfast', 'WHEN')],\n",
       " [('before', 'BEFORE'),\n",
       "  ('30', 'Qty'),\n",
       "  ('mins', 'M'),\n",
       "  ('at', 'AT'),\n",
       "  ('bedtime', 'WHEN')],\n",
       " [('30', 'Qty'), ('mins', 'M'), ('before', 'BEFORE'), ('bed', 'WHEN')],\n",
       " [('and', 'AND'),\n",
       "  ('100', 'Qty'),\n",
       "  ('tabs', 'Form'),\n",
       "  ('twice', 'Frequency'),\n",
       "  ('a', 'Period'),\n",
       "  ('month', 'PeriodUnit')],\n",
       " [('100', 'Qty'),\n",
       "  ('tabs', 'Form'),\n",
       "  ('twice', 'Frequency'),\n",
       "  ('a', 'Period'),\n",
       "  ('month', 'PeriodUnit')],\n",
       " [('100', 'Qty'),\n",
       "  ('tabs', 'Form'),\n",
       "  ('once', 'Frequency'),\n",
       "  ('a', 'Period'),\n",
       "  ('month', 'PeriodUnit')],\n",
       " [('100', 'Qty'),\n",
       "  ('tabs', 'Form'),\n",
       "  ('thrice', 'Frequency'),\n",
       "  ('a', 'Period'),\n",
       "  ('month', 'PeriodUnit')],\n",
       " [('3', 'Qty'),\n",
       "  ('tabs', 'Form'),\n",
       "  ('daily', 'Frequency'),\n",
       "  ('for', 'FOR'),\n",
       "  ('3', 'Duration'),\n",
       "  ('days', 'DurationUnit'),\n",
       "  ('then', 'THEN'),\n",
       "  ('1', 'Qty'),\n",
       "  ('tab', 'Form'),\n",
       "  ('per', 'Frequency'),\n",
       "  ('day', 'PeriodUnit'),\n",
       "  ('at', 'AT'),\n",
       "  ('bed', 'WHEN')],\n",
       " [('30', 'Qty'),\n",
       "  ('tabs', 'Form'),\n",
       "  ('10', 'Duration'),\n",
       "  ('days', 'DurationUnit'),\n",
       "  ('tid', 'TID')],\n",
       " [('take', 'Method'),\n",
       "  ('30', 'Qty'),\n",
       "  ('tabs', 'Form'),\n",
       "  ('for', 'FOR'),\n",
       "  ('10', 'Duration'),\n",
       "  ('days', 'DurationUnit'),\n",
       "  ('three', 'Qty'),\n",
       "  ('times', 'TIMES'),\n",
       "  ('a', 'Period'),\n",
       "  ('day', 'PeriodUnit')],\n",
       " [('qid', 'QID'), ('q6h', 'Q6H')],\n",
       " [('bid', 'BID')],\n",
       " [('qid', 'QID')],\n",
       " [('30', 'Qty'),\n",
       "  ('tabs', 'Form'),\n",
       "  ('before', 'BEFORE'),\n",
       "  ('dinner', 'WHEN'),\n",
       "  ('and', 'AND'),\n",
       "  ('bedtime', 'WHEN')],\n",
       " [('30', 'Qty'),\n",
       "  ('tabs', 'Form'),\n",
       "  ('before', 'BEFORE'),\n",
       "  ('dinner', 'WHEN'),\n",
       "  ('&', 'AND'),\n",
       "  ('bedtime', 'WHEN')],\n",
       " [('take', 'Method'),\n",
       "  ('3', 'Qty'),\n",
       "  ('tabs', 'Form'),\n",
       "  ('at', 'AT'),\n",
       "  ('bedtime', 'WHEN')],\n",
       " [('30', 'Qty'),\n",
       "  ('tabs', 'Form'),\n",
       "  ('thrice', 'Frequency'),\n",
       "  ('daily', 'DAILY'),\n",
       "  ('for', 'FOR'),\n",
       "  ('10', 'Duration'),\n",
       "  ('days', 'DurationUnit')],\n",
       " [('30', 'Qty'),\n",
       "  ('tabs', 'Form'),\n",
       "  ('for', 'FOR'),\n",
       "  ('10', 'Duration'),\n",
       "  ('days', 'DurationUnit'),\n",
       "  ('three', 'Frequency'),\n",
       "  ('times', 'TIMES'),\n",
       "  ('a', 'Period'),\n",
       "  ('day', 'PeriodUnit')],\n",
       " [('take', 'Method'),\n",
       "  ('2', 'Qty'),\n",
       "  ('tablets', 'Form'),\n",
       "  ('a', 'Period'),\n",
       "  ('day', 'PeriodUnit')],\n",
       " [('qid', 'QID'),\n",
       "  ('for', 'FOR'),\n",
       "  ('10', 'Duration'),\n",
       "  ('days', 'DurationUnit')],\n",
       " [('every', 'EVERY'), ('day', 'PeriodUnit')],\n",
       " [('take', 'Method'),\n",
       "  ('2', 'Qty'),\n",
       "  ('caps', 'Form'),\n",
       "  ('at', 'AT'),\n",
       "  ('bedtime', 'WHEN')],\n",
       " [('apply', 'Method'),\n",
       "  ('3', 'Qty'),\n",
       "  ('drops', 'Form'),\n",
       "  ('before', 'BEFORE'),\n",
       "  ('bedtime', 'WHEN')],\n",
       " [('take', 'Method'),\n",
       "  ('three', 'Qty'),\n",
       "  ('capsules', 'Form'),\n",
       "  ('daily', 'DAILY')],\n",
       " [('swallow', 'Method'),\n",
       "  ('3', 'Qty'),\n",
       "  ('pills', 'Form'),\n",
       "  ('once', 'Frequency'),\n",
       "  ('a', 'Period'),\n",
       "  ('day', 'PeriodUnit')],\n",
       " [('swallow', 'Method'),\n",
       "  ('three', 'Qty'),\n",
       "  ('pills', 'Form'),\n",
       "  ('thrice', 'Frequency'),\n",
       "  ('a', 'Period'),\n",
       "  ('day', 'PeriodUnit')],\n",
       " [('apply', 'Method'), ('daily', 'DAILY')],\n",
       " [('apply', 'Method'),\n",
       "  ('three', 'Qty'),\n",
       "  ('drops', 'Form'),\n",
       "  ('before', 'BEFORE'),\n",
       "  ('bedtime', 'WHEN')],\n",
       " [('every', 'EVERY'), ('6', 'Period'), ('hours', 'PeriodUnit')],\n",
       " [('before', 'BEFORE'), ('food', 'FOOD')],\n",
       " [('after', 'AFTER'), ('food', 'FOOD')],\n",
       " [('for', 'FOR'), ('20', 'Duration'), ('days', 'DurationUnit')],\n",
       " [('for', 'FOR'), ('twenty', 'Duration'), ('days', 'DurationUnit')],\n",
       " [('with', 'WITH'), ('meals', 'FOOD')]]"
      ]
     },
     "execution_count": 4,
     "metadata": {},
     "output_type": "execute_result"
    }
   ],
   "source": [
    "tm_op = tuples_maker(input_sigs,output_labels)\n",
    "tm_op"
   ]
  },
  {
   "cell_type": "markdown",
   "metadata": {},
   "source": [
    "### Creating the triples_maker( ) for feature extraction\n",
    "- input: tuples_maker_output\n",
    "- output: \n",
    "[[('for', 'IN', 'FOR'),\n",
    "  ('5', 'CD', 'Duration'),\n",
    "  ('to', 'TO', 'TO'),\n",
    "  ('6', 'CD', 'DurationMax'),\n",
    "  ('days', 'NNS', 'DurationUnit')], [second sentence], ... ]"
   ]
  },
  {
   "cell_type": "code",
   "execution_count": 5,
   "metadata": {},
   "outputs": [],
   "source": [
    "def triples_maker(whole_data):\n",
    "    sample_data = []\n",
    "    for j in range(len(whole_data)):\n",
    "        oplist = []\n",
    "        for i in range(len(whole_data[j])):\n",
    "            data = [whole_data[j][i][0]]\n",
    "            op = (whole_data[j][i][0],pos_tag(data)[0][1],whole_data[j][i][1])\n",
    "            oplist.append(op)\n",
    "        sample_data.append(oplist)\n",
    "    return sample_data"
   ]
  },
  {
   "cell_type": "code",
   "execution_count": 6,
   "metadata": {},
   "outputs": [
    {
     "data": {
      "text/plain": [
       "[[('for', 'IN', 'FOR'),\n",
       "  ('5', 'CD', 'Duration'),\n",
       "  ('to', 'TO', 'TO'),\n",
       "  ('6', 'CD', 'DurationMax'),\n",
       "  ('days', 'NNS', 'DurationUnit')],\n",
       " [('inject', 'NN', 'Method'), ('2', 'CD', 'Qty'), ('units', 'NNS', 'Form')],\n",
       " [('x', 'NN', 'FOR'),\n",
       "  ('2', 'CD', 'Duration'),\n",
       "  ('weeks', 'NNS', 'DurationUnit')],\n",
       " [('x', 'NN', 'FOR'),\n",
       "  ('3', 'CD', 'Duration'),\n",
       "  ('days', 'NNS', 'DurationUnit')],\n",
       " [('every', 'DT', 'EVERY'), ('day', 'NN', 'Period')],\n",
       " [('every', 'DT', 'EVERY'),\n",
       "  ('2', 'CD', 'Period'),\n",
       "  ('weeks', 'NNS', 'PeriodUnit')],\n",
       " [('every', 'DT', 'EVERY'),\n",
       "  ('3', 'CD', 'Period'),\n",
       "  ('days', 'NNS', 'PeriodUnit')],\n",
       " [('every', 'DT', 'EVERY'),\n",
       "  ('1', 'CD', 'Period'),\n",
       "  ('to', 'TO', 'TO'),\n",
       "  ('2', 'CD', 'PeriodMax'),\n",
       "  ('months', 'NNS', 'PeriodUnit')],\n",
       " [('every', 'DT', 'EVERY'),\n",
       "  ('2', 'CD', 'Period'),\n",
       "  ('to', 'TO', 'TO'),\n",
       "  ('6', 'CD', 'PeriodMax'),\n",
       "  ('weeks', 'NNS', 'PeriodUnit')],\n",
       " [('every', 'DT', 'EVERY'),\n",
       "  ('4', 'CD', 'Period'),\n",
       "  ('to', 'TO', 'TO'),\n",
       "  ('6', 'CD', 'PeriodMax'),\n",
       "  ('days', 'NNS', 'PeriodUnit')],\n",
       " [('take', 'VB', 'Method'),\n",
       "  ('two', 'CD', 'Qty'),\n",
       "  ('to', 'TO', 'TO'),\n",
       "  ('four', 'CD', 'Qty'),\n",
       "  ('tabs', 'NNS', 'Form')],\n",
       " [('take', 'VB', 'Method'),\n",
       "  ('2', 'CD', 'Qty'),\n",
       "  ('to', 'TO', 'TO'),\n",
       "  ('4', 'CD', 'Qty'),\n",
       "  ('tabs', 'NNS', 'Form')],\n",
       " [('take', 'VB', 'Method'),\n",
       "  ('3', 'CD', 'Qty'),\n",
       "  ('tabs', 'NNS', 'Form'),\n",
       "  ('orally', 'RB', 'PO'),\n",
       "  ('bid', 'NN', 'BID'),\n",
       "  ('for', 'IN', 'FOR'),\n",
       "  ('10', 'CD', 'Duration'),\n",
       "  ('days', 'NNS', 'DurationUnit'),\n",
       "  ('at', 'IN', 'AT'),\n",
       "  ('bedtime', 'NN', 'WHEN')],\n",
       " [('swallow', 'NN', 'Method'),\n",
       "  ('three', 'CD', 'Qty'),\n",
       "  ('capsules', 'NNS', 'Form'),\n",
       "  ('tid', 'NN', 'TID'),\n",
       "  ('orally', 'RB', 'PO')],\n",
       " [('take', 'VB', 'Method'),\n",
       "  ('2', 'CD', 'Qty'),\n",
       "  ('capsules', 'NNS', 'Form'),\n",
       "  ('po', 'NN', 'PO'),\n",
       "  ('every', 'DT', 'EVERY'),\n",
       "  ('6', 'CD', 'Period'),\n",
       "  ('hours', 'NNS', 'PeriodUnit')],\n",
       " [('take', 'VB', 'Method'),\n",
       "  ('2', 'CD', 'Qty'),\n",
       "  ('tabs', 'NNS', 'Form'),\n",
       "  ('po', 'NN', 'PO'),\n",
       "  ('for', 'IN', 'FOR'),\n",
       "  ('10', 'CD', 'Duration'),\n",
       "  ('days', 'NNS', 'DurationUnit')],\n",
       " [('take', 'VB', 'Method'),\n",
       "  ('100', 'CD', 'Qty'),\n",
       "  ('caps', 'NNS', 'Form'),\n",
       "  ('by', 'IN', 'BY'),\n",
       "  ('mouth', 'NN', 'PO'),\n",
       "  ('tid', 'NN', 'TID'),\n",
       "  ('for', 'IN', 'FOR'),\n",
       "  ('10', 'CD', 'Duration'),\n",
       "  ('weeks', 'NNS', 'DurationUnit')],\n",
       " [('take', 'VB', 'Method'),\n",
       "  ('2', 'CD', 'Qty'),\n",
       "  ('tabs', 'NNS', 'Form'),\n",
       "  ('after', 'IN', 'AFTER'),\n",
       "  ('an', 'DT', 'Period'),\n",
       "  ('hour', 'NN', 'PeriodUnit')],\n",
       " [('2', 'CD', 'Qty'),\n",
       "  ('tabs', 'NNS', 'Form'),\n",
       "  ('every', 'DT', 'EVERY'),\n",
       "  ('4-6', 'JJ', 'Period'),\n",
       "  ('hours', 'NNS', 'PeriodUnit')],\n",
       " [('every', 'DT', 'EVERY'),\n",
       "  ('4', 'CD', 'Period'),\n",
       "  ('to', 'TO', 'TO'),\n",
       "  ('6', 'CD', 'PeriodMax'),\n",
       "  ('hours', 'NNS', 'PeriodUnit')],\n",
       " [('q46h', 'NN', 'Q46H')],\n",
       " [('q4-6h', 'NN', 'Q4-6H')],\n",
       " [('2', 'CD', 'Qty'),\n",
       "  ('hours', 'NNS', 'PeriodUnit'),\n",
       "  ('before', 'IN', 'BEFORE'),\n",
       "  ('breakfast', 'NN', 'WHEN')],\n",
       " [('before', 'IN', 'BEFORE'),\n",
       "  ('30', 'CD', 'Qty'),\n",
       "  ('mins', 'NNS', 'M'),\n",
       "  ('at', 'IN', 'AT'),\n",
       "  ('bedtime', 'NN', 'WHEN')],\n",
       " [('30', 'CD', 'Qty'),\n",
       "  ('mins', 'NNS', 'M'),\n",
       "  ('before', 'IN', 'BEFORE'),\n",
       "  ('bed', 'NN', 'WHEN')],\n",
       " [('and', 'CC', 'AND'),\n",
       "  ('100', 'CD', 'Qty'),\n",
       "  ('tabs', 'NNS', 'Form'),\n",
       "  ('twice', 'RB', 'Frequency'),\n",
       "  ('a', 'DT', 'Period'),\n",
       "  ('month', 'NN', 'PeriodUnit')],\n",
       " [('100', 'CD', 'Qty'),\n",
       "  ('tabs', 'NNS', 'Form'),\n",
       "  ('twice', 'RB', 'Frequency'),\n",
       "  ('a', 'DT', 'Period'),\n",
       "  ('month', 'NN', 'PeriodUnit')],\n",
       " [('100', 'CD', 'Qty'),\n",
       "  ('tabs', 'NNS', 'Form'),\n",
       "  ('once', 'RB', 'Frequency'),\n",
       "  ('a', 'DT', 'Period'),\n",
       "  ('month', 'NN', 'PeriodUnit')],\n",
       " [('100', 'CD', 'Qty'),\n",
       "  ('tabs', 'NNS', 'Form'),\n",
       "  ('thrice', 'NN', 'Frequency'),\n",
       "  ('a', 'DT', 'Period'),\n",
       "  ('month', 'NN', 'PeriodUnit')],\n",
       " [('3', 'CD', 'Qty'),\n",
       "  ('tabs', 'NNS', 'Form'),\n",
       "  ('daily', 'JJ', 'Frequency'),\n",
       "  ('for', 'IN', 'FOR'),\n",
       "  ('3', 'CD', 'Duration'),\n",
       "  ('days', 'NNS', 'DurationUnit'),\n",
       "  ('then', 'RB', 'THEN'),\n",
       "  ('1', 'CD', 'Qty'),\n",
       "  ('tab', 'NN', 'Form'),\n",
       "  ('per', 'IN', 'Frequency'),\n",
       "  ('day', 'NN', 'PeriodUnit'),\n",
       "  ('at', 'IN', 'AT'),\n",
       "  ('bed', 'NN', 'WHEN')],\n",
       " [('30', 'CD', 'Qty'),\n",
       "  ('tabs', 'NNS', 'Form'),\n",
       "  ('10', 'CD', 'Duration'),\n",
       "  ('days', 'NNS', 'DurationUnit'),\n",
       "  ('tid', 'NN', 'TID')],\n",
       " [('take', 'VB', 'Method'),\n",
       "  ('30', 'CD', 'Qty'),\n",
       "  ('tabs', 'NNS', 'Form'),\n",
       "  ('for', 'IN', 'FOR'),\n",
       "  ('10', 'CD', 'Duration'),\n",
       "  ('days', 'NNS', 'DurationUnit'),\n",
       "  ('three', 'CD', 'Qty'),\n",
       "  ('times', 'NNS', 'TIMES'),\n",
       "  ('a', 'DT', 'Period'),\n",
       "  ('day', 'NN', 'PeriodUnit')],\n",
       " [('qid', 'NN', 'QID'), ('q6h', 'NN', 'Q6H')],\n",
       " [('bid', 'NN', 'BID')],\n",
       " [('qid', 'NN', 'QID')],\n",
       " [('30', 'CD', 'Qty'),\n",
       "  ('tabs', 'NNS', 'Form'),\n",
       "  ('before', 'IN', 'BEFORE'),\n",
       "  ('dinner', 'NN', 'WHEN'),\n",
       "  ('and', 'CC', 'AND'),\n",
       "  ('bedtime', 'NN', 'WHEN')],\n",
       " [('30', 'CD', 'Qty'),\n",
       "  ('tabs', 'NNS', 'Form'),\n",
       "  ('before', 'IN', 'BEFORE'),\n",
       "  ('dinner', 'NN', 'WHEN'),\n",
       "  ('&', 'CC', 'AND'),\n",
       "  ('bedtime', 'NN', 'WHEN')],\n",
       " [('take', 'VB', 'Method'),\n",
       "  ('3', 'CD', 'Qty'),\n",
       "  ('tabs', 'NNS', 'Form'),\n",
       "  ('at', 'IN', 'AT'),\n",
       "  ('bedtime', 'NN', 'WHEN')],\n",
       " [('30', 'CD', 'Qty'),\n",
       "  ('tabs', 'NNS', 'Form'),\n",
       "  ('thrice', 'NN', 'Frequency'),\n",
       "  ('daily', 'JJ', 'DAILY'),\n",
       "  ('for', 'IN', 'FOR'),\n",
       "  ('10', 'CD', 'Duration'),\n",
       "  ('days', 'NNS', 'DurationUnit')],\n",
       " [('30', 'CD', 'Qty'),\n",
       "  ('tabs', 'NNS', 'Form'),\n",
       "  ('for', 'IN', 'FOR'),\n",
       "  ('10', 'CD', 'Duration'),\n",
       "  ('days', 'NNS', 'DurationUnit'),\n",
       "  ('three', 'CD', 'Frequency'),\n",
       "  ('times', 'NNS', 'TIMES'),\n",
       "  ('a', 'DT', 'Period'),\n",
       "  ('day', 'NN', 'PeriodUnit')],\n",
       " [('take', 'VB', 'Method'),\n",
       "  ('2', 'CD', 'Qty'),\n",
       "  ('tablets', 'NNS', 'Form'),\n",
       "  ('a', 'DT', 'Period'),\n",
       "  ('day', 'NN', 'PeriodUnit')],\n",
       " [('qid', 'NN', 'QID'),\n",
       "  ('for', 'IN', 'FOR'),\n",
       "  ('10', 'CD', 'Duration'),\n",
       "  ('days', 'NNS', 'DurationUnit')],\n",
       " [('every', 'DT', 'EVERY'), ('day', 'NN', 'PeriodUnit')],\n",
       " [('take', 'VB', 'Method'),\n",
       "  ('2', 'CD', 'Qty'),\n",
       "  ('caps', 'NNS', 'Form'),\n",
       "  ('at', 'IN', 'AT'),\n",
       "  ('bedtime', 'NN', 'WHEN')],\n",
       " [('apply', 'VB', 'Method'),\n",
       "  ('3', 'CD', 'Qty'),\n",
       "  ('drops', 'NNS', 'Form'),\n",
       "  ('before', 'IN', 'BEFORE'),\n",
       "  ('bedtime', 'NN', 'WHEN')],\n",
       " [('take', 'VB', 'Method'),\n",
       "  ('three', 'CD', 'Qty'),\n",
       "  ('capsules', 'NNS', 'Form'),\n",
       "  ('daily', 'JJ', 'DAILY')],\n",
       " [('swallow', 'NN', 'Method'),\n",
       "  ('3', 'CD', 'Qty'),\n",
       "  ('pills', 'NNS', 'Form'),\n",
       "  ('once', 'RB', 'Frequency'),\n",
       "  ('a', 'DT', 'Period'),\n",
       "  ('day', 'NN', 'PeriodUnit')],\n",
       " [('swallow', 'NN', 'Method'),\n",
       "  ('three', 'CD', 'Qty'),\n",
       "  ('pills', 'NNS', 'Form'),\n",
       "  ('thrice', 'NN', 'Frequency'),\n",
       "  ('a', 'DT', 'Period'),\n",
       "  ('day', 'NN', 'PeriodUnit')],\n",
       " [('apply', 'VB', 'Method'), ('daily', 'JJ', 'DAILY')],\n",
       " [('apply', 'VB', 'Method'),\n",
       "  ('three', 'CD', 'Qty'),\n",
       "  ('drops', 'NNS', 'Form'),\n",
       "  ('before', 'IN', 'BEFORE'),\n",
       "  ('bedtime', 'NN', 'WHEN')],\n",
       " [('every', 'DT', 'EVERY'),\n",
       "  ('6', 'CD', 'Period'),\n",
       "  ('hours', 'NNS', 'PeriodUnit')],\n",
       " [('before', 'IN', 'BEFORE'), ('food', 'NN', 'FOOD')],\n",
       " [('after', 'IN', 'AFTER'), ('food', 'NN', 'FOOD')],\n",
       " [('for', 'IN', 'FOR'),\n",
       "  ('20', 'CD', 'Duration'),\n",
       "  ('days', 'NNS', 'DurationUnit')],\n",
       " [('for', 'IN', 'FOR'),\n",
       "  ('twenty', 'NN', 'Duration'),\n",
       "  ('days', 'NNS', 'DurationUnit')],\n",
       " [('with', 'IN', 'WITH'), ('meals', 'NNS', 'FOOD')]]"
      ]
     },
     "execution_count": 6,
     "metadata": {},
     "output_type": "execute_result"
    }
   ],
   "source": [
    "sample_data = triples_maker(tm_op)\n",
    "sample_data"
   ]
  },
  {
   "cell_type": "markdown",
   "metadata": {},
   "source": [
    "### Creating the features extractor method (GIVEN as a BASELINE)\n",
    "#### The features used are:\n",
    "- SOS, EOS, lowercase, uppercase, title, digit, postag, previous_tag, next_tag\n",
    "#### Feel free to include more features"
   ]
  },
  {
   "cell_type": "code",
   "execution_count": 7,
   "metadata": {},
   "outputs": [],
   "source": [
    "def token_to_features(doc, i):\n",
    "    word = doc[i][0]\n",
    "    postag = doc[i][1]\n",
    "\n",
    "    # Common features for all words\n",
    "    features = [\n",
    "        'bias',\n",
    "        'word.lower=' + word.lower(),\n",
    "        'word[-3:]=' + word[-3:],\n",
    "        'word[-2:]=' + word[-2:],\n",
    "        'word.isupper=%s' % word.isupper(),\n",
    "        'word.istitle=%s' % word.istitle(),\n",
    "        'word.isdigit=%s' % word.isdigit(),\n",
    "        'postag=' + postag\n",
    "    ]\n",
    "\n",
    "    # Features for words that are not\n",
    "    # at the beginning of a document\n",
    "    if i > 0:\n",
    "        word1 = doc[i-1][0]\n",
    "        postag1 = doc[i-1][1]\n",
    "        features.extend([\n",
    "            '-1:word.lower=' + word1.lower(),\n",
    "            '-1:word.istitle=%s' % word1.istitle(),\n",
    "            '-1:word.isupper=%s' % word1.isupper(),\n",
    "            '-1:word.isdigit=%s' % word1.isdigit(),\n",
    "            '-1:postag=' + postag1\n",
    "        ])\n",
    "    else:\n",
    "        # Indicate that it is the 'beginning of a document'\n",
    "        features.append('BOS')\n",
    "\n",
    "    # Features for words that are not\n",
    "    # at the end of a document\n",
    "    if i < len(doc)-1:\n",
    "        word1 = doc[i+1][0]\n",
    "        postag1 = doc[i+1][1]\n",
    "        features.extend([\n",
    "            '+1:word.lower=' + word1.lower(),\n",
    "            '+1:word.istitle=%s' % word1.istitle(),\n",
    "            '+1:word.isupper=%s' % word1.isupper(),\n",
    "            '+1:word.isdigit=%s' % word1.isdigit(),\n",
    "            '+1:postag=' + postag1\n",
    "        ])\n",
    "    else:\n",
    "        # Indicate that it is the 'end of a document'\n",
    "        features.append('EOS')\n",
    "\n",
    "    return features"
   ]
  },
  {
   "cell_type": "code",
   "execution_count": 22,
   "metadata": {},
   "outputs": [],
   "source": [
    "def sent2features(sent):\n",
    "    return [token_to_features(sent, i) for i in range(len(sent))]\n",
    "\n",
    "def sent2labels(sent):\n",
    "    return [label for token, postag, label in sent]"
   ]
  },
  {
   "cell_type": "markdown",
   "metadata": {},
   "source": [
    "### Running the feature extractor on the training data \n",
    "- Feature extraction\n",
    "- Train-test-split"
   ]
  },
  {
   "cell_type": "code",
   "execution_count": 15,
   "metadata": {},
   "outputs": [],
   "source": [
    "sentences = [s for s in sample_data]"
   ]
  },
  {
   "cell_type": "code",
   "execution_count": 28,
   "metadata": {},
   "outputs": [
    {
     "name": "stderr",
     "output_type": "stream",
     "text": [
      "C:\\Users\\nitro\\Anaconda3\\lib\\site-packages\\ipykernel_launcher.py:1: VisibleDeprecationWarning: Creating an ndarray from ragged nested sequences (which is a list-or-tuple of lists-or-tuples-or ndarrays with different lengths or shapes) is deprecated. If you meant to do this, you must specify 'dtype=object' when creating the ndarray.\n",
      "  \"\"\"Entry point for launching an IPython kernel.\n",
      "C:\\Users\\nitro\\Anaconda3\\lib\\site-packages\\ipykernel_launcher.py:2: VisibleDeprecationWarning: Creating an ndarray from ragged nested sequences (which is a list-or-tuple of lists-or-tuples-or ndarrays with different lengths or shapes) is deprecated. If you meant to do this, you must specify 'dtype=object' when creating the ndarray.\n",
      "  \n"
     ]
    }
   ],
   "source": [
    "X = np.array([sent2features(s) for s in sentences])\n",
    "y = np.array([sent2labels(s) for s in sentences])"
   ]
  },
  {
   "cell_type": "code",
   "execution_count": 10,
   "metadata": {},
   "outputs": [],
   "source": [
    "from sklearn.model_selection import train_test_split"
   ]
  },
  {
   "cell_type": "code",
   "execution_count": 29,
   "metadata": {},
   "outputs": [
    {
     "data": {
      "text/plain": [
       "((42,), (14,))"
      ]
     },
     "execution_count": 29,
     "metadata": {},
     "output_type": "execute_result"
    }
   ],
   "source": [
    "X_train, X_test, y_train, y_test = train_test_split(X, y, test_size=0.25, random_state=42)\n",
    "X_train.shape, X_test.shape"
   ]
  },
  {
   "cell_type": "markdown",
   "metadata": {},
   "source": [
    "### Training the CRF model with the features extracted using the feature extractor method"
   ]
  },
  {
   "cell_type": "code",
   "execution_count": 30,
   "metadata": {},
   "outputs": [
    {
     "name": "stderr",
     "output_type": "stream",
     "text": [
      "loading training data to CRFsuite: 100%|█████████████████████████████████████████████████████████████████████████████████████| 42/42 [00:00<00:00, 3099.68it/s]\n"
     ]
    },
    {
     "name": "stdout",
     "output_type": "stream",
     "text": [
      "\n",
      "Feature generation\n",
      "type: CRF1d\n",
      "feature.minfreq: 0.000000\n",
      "feature.possible_states: 0\n",
      "feature.possible_transitions: 1\n",
      "0....1....2....3....4....5....6....7....8....9....10\n",
      "Number of features: 1746\n",
      "Seconds required: 0.022\n",
      "\n",
      "L-BFGS optimization\n",
      "c1: 0.100000\n",
      "c2: 0.100000\n",
      "num_memories: 6\n",
      "max_iterations: 100\n",
      "epsilon: 0.000010\n",
      "stop: 10\n",
      "delta: 0.000010\n",
      "linesearch: MoreThuente\n",
      "linesearch.max_iterations: 20\n",
      "\n",
      "Iter 1   time=0.01  loss=550.42   active=1727  feature_norm=1.00\n",
      "Iter 2   time=0.01  loss=374.93   active=1442  feature_norm=5.08\n",
      "Iter 3   time=0.00  loss=269.22   active=1454  feature_norm=5.92\n",
      "Iter 4   time=0.00  loss=224.63   active=1212  feature_norm=6.74\n",
      "Iter 5   time=0.00  loss=171.45   active=1138  feature_norm=8.17\n",
      "Iter 6   time=0.00  loss=117.02   active=1046  feature_norm=10.80\n",
      "Iter 7   time=0.00  loss=88.03    active=1019  feature_norm=13.62\n",
      "Iter 8   time=0.00  loss=80.17    active=993   feature_norm=14.63\n",
      "Iter 9   time=0.00  loss=76.48    active=995   feature_norm=14.84\n",
      "Iter 10  time=0.00  loss=74.31    active=956   feature_norm=14.83\n",
      "Iter 11  time=0.00  loss=72.35    active=912   feature_norm=14.74\n",
      "Iter 12  time=0.00  loss=70.74    active=785   feature_norm=14.53\n",
      "Iter 13  time=0.00  loss=69.80    active=777   feature_norm=14.54\n",
      "Iter 14  time=0.00  loss=69.30    active=790   feature_norm=14.55\n",
      "Iter 15  time=0.00  loss=68.95    active=770   feature_norm=14.58\n",
      "Iter 16  time=0.00  loss=68.57    active=738   feature_norm=14.64\n",
      "Iter 17  time=0.00  loss=68.13    active=642   feature_norm=14.84\n",
      "Iter 18  time=0.00  loss=67.95    active=613   feature_norm=14.95\n",
      "Iter 19  time=0.00  loss=67.79    active=617   feature_norm=14.96\n",
      "Iter 20  time=0.01  loss=67.70    active=603   feature_norm=14.98\n",
      "Iter 21  time=0.00  loss=67.61    active=579   feature_norm=15.00\n",
      "Iter 22  time=0.00  loss=67.57    active=560   feature_norm=15.09\n",
      "Iter 23  time=0.00  loss=67.48    active=584   feature_norm=15.09\n",
      "Iter 24  time=0.00  loss=67.47    active=585   feature_norm=15.08\n",
      "Iter 25  time=0.00  loss=67.43    active=564   feature_norm=15.07\n",
      "Iter 26  time=0.00  loss=67.41    active=552   feature_norm=15.07\n",
      "Iter 27  time=0.00  loss=67.39    active=551   feature_norm=15.08\n",
      "Iter 28  time=0.00  loss=67.38    active=546   feature_norm=15.08\n",
      "Iter 29  time=0.00  loss=67.36    active=545   feature_norm=15.08\n",
      "Iter 30  time=0.00  loss=67.35    active=545   feature_norm=15.09\n",
      "Iter 31  time=0.00  loss=67.34    active=539   feature_norm=15.10\n",
      "Iter 32  time=0.00  loss=67.34    active=533   feature_norm=15.11\n",
      "Iter 33  time=0.01  loss=67.33    active=532   feature_norm=15.12\n",
      "Iter 34  time=0.01  loss=67.33    active=532   feature_norm=15.13\n",
      "Iter 35  time=0.00  loss=67.32    active=531   feature_norm=15.13\n",
      "Iter 36  time=0.00  loss=67.32    active=532   feature_norm=15.13\n",
      "Iter 37  time=0.00  loss=67.32    active=533   feature_norm=15.13\n",
      "Iter 38  time=0.00  loss=67.32    active=532   feature_norm=15.14\n",
      "Iter 39  time=0.00  loss=67.31    active=532   feature_norm=15.13\n",
      "Iter 40  time=0.00  loss=67.31    active=531   feature_norm=15.13\n",
      "Iter 41  time=0.00  loss=67.31    active=531   feature_norm=15.13\n",
      "Iter 42  time=0.00  loss=67.31    active=531   feature_norm=15.13\n",
      "Iter 43  time=0.00  loss=67.31    active=531   feature_norm=15.13\n",
      "Iter 44  time=0.00  loss=67.31    active=530   feature_norm=15.13\n",
      "Iter 45  time=0.00  loss=67.31    active=533   feature_norm=15.13\n",
      "Iter 46  time=0.00  loss=67.31    active=533   feature_norm=15.13\n",
      "Iter 47  time=0.00  loss=67.31    active=534   feature_norm=15.13\n",
      "Iter 48  time=0.00  loss=67.30    active=533   feature_norm=15.13\n",
      "Iter 49  time=0.00  loss=67.30    active=531   feature_norm=15.13\n",
      "Iter 50  time=0.00  loss=67.30    active=531   feature_norm=15.13\n",
      "Iter 51  time=0.00  loss=67.30    active=532   feature_norm=15.13\n",
      "Iter 52  time=0.00  loss=67.30    active=529   feature_norm=15.13\n",
      "Iter 53  time=0.00  loss=67.30    active=529   feature_norm=15.13\n",
      "Iter 54  time=0.00  loss=67.30    active=529   feature_norm=15.13\n",
      "Iter 55  time=0.00  loss=67.30    active=527   feature_norm=15.13\n",
      "Iter 56  time=0.00  loss=67.30    active=527   feature_norm=15.13\n",
      "Iter 57  time=0.00  loss=67.30    active=527   feature_norm=15.13\n",
      "Iter 58  time=0.00  loss=67.30    active=525   feature_norm=15.13\n",
      "Iter 59  time=0.00  loss=67.30    active=525   feature_norm=15.13\n",
      "Iter 60  time=0.00  loss=67.30    active=525   feature_norm=15.13\n",
      "Iter 61  time=0.00  loss=67.30    active=525   feature_norm=15.13\n",
      "Iter 62  time=0.00  loss=67.30    active=525   feature_norm=15.13\n",
      "Iter 63  time=0.00  loss=67.30    active=525   feature_norm=15.13\n",
      "Iter 64  time=0.00  loss=67.30    active=525   feature_norm=15.13\n",
      "Iter 65  time=0.00  loss=67.30    active=526   feature_norm=15.13\n",
      "Iter 66  time=0.00  loss=67.30    active=526   feature_norm=15.13\n",
      "Iter 67  time=0.00  loss=67.30    active=526   feature_norm=15.13\n",
      "Iter 68  time=0.00  loss=67.30    active=526   feature_norm=15.13\n",
      "Iter 69  time=0.00  loss=67.30    active=526   feature_norm=15.13\n",
      "Iter 70  time=0.00  loss=67.30    active=526   feature_norm=15.13\n",
      "Iter 71  time=0.00  loss=67.30    active=526   feature_norm=15.13\n",
      "Iter 72  time=0.00  loss=67.30    active=526   feature_norm=15.13\n",
      "Iter 73  time=0.00  loss=67.30    active=526   feature_norm=15.13\n",
      "Iter 74  time=0.00  loss=67.30    active=526   feature_norm=15.13\n",
      "Iter 75  time=0.00  loss=67.30    active=526   feature_norm=15.13\n",
      "Iter 76  time=0.00  loss=67.30    active=526   feature_norm=15.13\n",
      "Iter 77  time=0.00  loss=67.30    active=526   feature_norm=15.13\n",
      "Iter 78  time=0.00  loss=67.30    active=526   feature_norm=15.13\n",
      "Iter 79  time=0.00  loss=67.30    active=526   feature_norm=15.13\n",
      "L-BFGS terminated with the stopping criteria\n",
      "Total seconds required for training: 0.160\n",
      "\n",
      "Storing the model\n",
      "Number of active features: 526 (1746)\n",
      "Number of active attributes: 268 (330)\n",
      "Number of active labels: 30 (30)\n",
      "Writing labels\n",
      "Writing attributes\n",
      "Writing feature references for transitions\n",
      "Writing feature references for attributes\n",
      "Seconds required: 0.002\n",
      "\n"
     ]
    },
    {
     "name": "stderr",
     "output_type": "stream",
     "text": [
      "C:\\Users\\nitro\\AppData\\Roaming\\Python\\Python37\\site-packages\\sklearn\\base.py:197: FutureWarning: From version 0.24, get_params will raise an AttributeError if a parameter cannot be retrieved as an instance attribute. Previously it would return None.\n",
      "  FutureWarning)\n"
     ]
    },
    {
     "data": {
      "text/plain": [
       "CRF(algorithm='lbfgs', all_possible_states=None, all_possible_transitions=True,\n",
       "    averaging=None, c=None, c1=0.1, c2=0.1, calibration_candidates=None,\n",
       "    calibration_eta=None, calibration_max_trials=None, calibration_rate=None,\n",
       "    calibration_samples=None, delta=None, epsilon=None, error_sensitive=None,\n",
       "    gamma=None, keep_tempfiles=None, linesearch=None, max_iterations=100,\n",
       "    max_linesearch=None, min_freq=None, model_filename=None, num_memories=None,\n",
       "    pa_type=None, period=None, trainer_cls=None, variance=None, verbose=True)"
      ]
     },
     "execution_count": 30,
     "metadata": {},
     "output_type": "execute_result"
    }
   ],
   "source": [
    "\n",
    "\n",
    "# Submit training data to the trainer\n",
    "\n",
    "\n",
    "# Set the parameters of the model\n",
    "\n",
    "\n",
    "# Providing a file name as a parameter to the train function, such that\n",
    "# the model will be saved to the file when training is finished\n",
    "crf = CRF(algorithm='lbfgs',\n",
    "                           c1=0.1,\n",
    "                           c2=0.1,\n",
    "                           max_iterations=100,\n",
    "                           all_possible_transitions=True,\n",
    "                           verbose=True)\n",
    "crf.fit(X_train, y_train)"
   ]
  },
  {
   "cell_type": "markdown",
   "metadata": {},
   "source": [
    "### Predicting the test data with the built model"
   ]
  },
  {
   "cell_type": "code",
   "execution_count": 38,
   "metadata": {},
   "outputs": [
    {
     "name": "stdout",
     "output_type": "stream",
     "text": [
      "['FOR', 'Duration', 'TO', 'PeriodMax', 'PeriodUnit']\n"
     ]
    }
   ],
   "source": [
    "y_pred = crf.predict(X_test)\n",
    "print(y_pred[0])"
   ]
  },
  {
   "cell_type": "markdown",
   "metadata": {},
   "source": [
    "### Putting all the prediction logic inside a predict method"
   ]
  },
  {
   "cell_type": "code",
   "execution_count": 100,
   "metadata": {},
   "outputs": [],
   "source": [
    "def predict(sig):\n",
    "    \"\"\"\n",
    "    predict(sig)\n",
    "    Purpose: Labels the given sig into corresponding labels\n",
    "    @param sig. A Sentence  # A medical prescription sig written by a doctor\n",
    "    @return     A list      # A list with predicted labels (first level of labeling)\n",
    "    >>> predict('2 tabs every 4 hours')\n",
    "    [['Qty', 'Form', 'EVERY', 'Period', 'PeriodUnit']]\n",
    "    >>> predict('2 tabs with food')\n",
    "    [['Qty', 'Form', 'WITH', 'FOOD']]\n",
    "    >>> predict('2 tabs qid x 30 days')\n",
    "    [['Qty', 'Form', 'QID', 'FOR', 'Duration', 'DurationUnit']]\n",
    "    \"\"\"\n",
    "    split_tokens = sig.split(\" \")\n",
    "    pos_form = pos_tag(split_tokens)\n",
    "    X_test = np.array([sent2features(pos_form)], dtype=object )\n",
    "    predictions = crf.predict(X_test)\n",
    "    print('Input Sig:',sig)\n",
    "    print(predictions)\n",
    "    return predictions"
   ]
  },
  {
   "cell_type": "markdown",
   "metadata": {},
   "source": [
    "### Sample predictions"
   ]
  },
  {
   "cell_type": "code",
   "execution_count": 101,
   "metadata": {},
   "outputs": [
    {
     "name": "stdout",
     "output_type": "stream",
     "text": [
      "Input Sig: take 2 tabs every 6 hours x 10 days\n",
      "[['Method', 'Qty', 'Form', 'EVERY', 'Period', 'PeriodUnit', 'FOR', 'Duration', 'DurationUnit']]\n"
     ]
    }
   ],
   "source": [
    "predictions = predict(\"take 2 tabs every 6 hours x 10 days\")"
   ]
  },
  {
   "cell_type": "code",
   "execution_count": 102,
   "metadata": {},
   "outputs": [
    {
     "name": "stdout",
     "output_type": "stream",
     "text": [
      "Input Sig: 2 capsu for 10 day at bed\n",
      "[['Qty', 'Form', 'FOR', 'Duration', 'DurationUnit', 'AT', 'WHEN']]\n"
     ]
    }
   ],
   "source": [
    "predictions = predict(\"2 capsu for 10 day at bed\")"
   ]
  },
  {
   "cell_type": "code",
   "execution_count": 103,
   "metadata": {},
   "outputs": [
    {
     "name": "stdout",
     "output_type": "stream",
     "text": [
      "Input Sig: 2 capsu for 10 days at bed\n",
      "[['Qty', 'Form', 'FOR', 'Duration', 'DurationUnit', 'AT', 'WHEN']]\n"
     ]
    }
   ],
   "source": [
    "predictions = predict(\"2 capsu for 10 days at bed\")\n"
   ]
  },
  {
   "cell_type": "code",
   "execution_count": 104,
   "metadata": {},
   "outputs": [
    {
     "name": "stdout",
     "output_type": "stream",
     "text": [
      "Input Sig: 5 days 2 tabs at bed\n",
      "[['Qty', 'Form', 'Qty', 'Form', 'AT', 'WHEN']]\n"
     ]
    }
   ],
   "source": [
    "predictions = predict(\"5 days 2 tabs at bed\")\n"
   ]
  },
  {
   "cell_type": "code",
   "execution_count": 105,
   "metadata": {},
   "outputs": [
    {
     "name": "stdout",
     "output_type": "stream",
     "text": [
      "Input Sig: 3 tabs qid x 10 weeks\n",
      "[['Qty', 'Form', 'Frequency', 'FOR', 'Duration', 'DurationUnit']]\n"
     ]
    }
   ],
   "source": [
    "predictions = predict(\"3 tabs qid x 10 weeks\")\n"
   ]
  },
  {
   "cell_type": "code",
   "execution_count": 106,
   "metadata": {},
   "outputs": [
    {
     "name": "stdout",
     "output_type": "stream",
     "text": [
      "Input Sig: x 30 days\n",
      "[['FOR', 'Duration', 'DurationUnit']]\n"
     ]
    }
   ],
   "source": [
    "predictions = predict(\"x 30 days\")\n"
   ]
  },
  {
   "cell_type": "code",
   "execution_count": 107,
   "metadata": {},
   "outputs": [
    {
     "name": "stdout",
     "output_type": "stream",
     "text": [
      "Input Sig: x 20 months\n",
      "[['FOR', 'Duration', 'DurationUnit']]\n"
     ]
    }
   ],
   "source": [
    "predictions = predict(\"x 20 months\")\n"
   ]
  },
  {
   "cell_type": "code",
   "execution_count": 108,
   "metadata": {},
   "outputs": [
    {
     "name": "stdout",
     "output_type": "stream",
     "text": [
      "Input Sig: take 2 tabs po tid for 10 days\n",
      "[['Method', 'Qty', 'Form', 'PO', 'TID', 'FOR', 'Duration', 'DurationUnit']]\n"
     ]
    }
   ],
   "source": [
    "predictions = predict(\"take 2 tabs po tid for 10 days\")\n"
   ]
  },
  {
   "cell_type": "code",
   "execution_count": 109,
   "metadata": {},
   "outputs": [
    {
     "name": "stdout",
     "output_type": "stream",
     "text": [
      "Input Sig: take 2 capsules po every 6 hours\n",
      "[['Method', 'Qty', 'Form', 'PO', 'EVERY', 'Period', 'PeriodUnit']]\n"
     ]
    }
   ],
   "source": [
    "predictions = predict(\"take 2 capsules po every 6 hours\")\n"
   ]
  },
  {
   "cell_type": "code",
   "execution_count": 110,
   "metadata": {},
   "outputs": [
    {
     "name": "stdout",
     "output_type": "stream",
     "text": [
      "Input Sig: inject 2 units pu tid\n",
      "[['Method', 'Qty', 'Form', 'Frequency', 'PeriodUnit']]\n"
     ]
    }
   ],
   "source": [
    "predictions = predict(\"inject 2 units pu tid\")\n"
   ]
  },
  {
   "cell_type": "code",
   "execution_count": 111,
   "metadata": {},
   "outputs": [
    {
     "name": "stdout",
     "output_type": "stream",
     "text": [
      "Input Sig: swallow 3 caps tid by mouth\n",
      "[['Method', 'Qty', 'Form', 'Frequency', 'BY', 'PO']]\n"
     ]
    }
   ],
   "source": [
    "predictions = predict(\"swallow 3 caps tid by mouth\")\n"
   ]
  },
  {
   "cell_type": "code",
   "execution_count": 112,
   "metadata": {},
   "outputs": [
    {
     "name": "stdout",
     "output_type": "stream",
     "text": [
      "Input Sig: inject 3 units orally\n",
      "[['Method', 'Qty', 'Form', 'Frequency']]\n"
     ]
    }
   ],
   "source": [
    "predictions = predict(\"inject 3 units orally\")\n"
   ]
  },
  {
   "cell_type": "code",
   "execution_count": 113,
   "metadata": {},
   "outputs": [
    {
     "name": "stdout",
     "output_type": "stream",
     "text": [
      "Input Sig: orally take 3 tabs tid\n",
      "[['Method', 'Method', 'Qty', 'Form', 'Frequency']]\n"
     ]
    }
   ],
   "source": [
    "predictions = predict(\"orally take 3 tabs tid\")\n"
   ]
  },
  {
   "cell_type": "code",
   "execution_count": 114,
   "metadata": {},
   "outputs": [
    {
     "name": "stdout",
     "output_type": "stream",
     "text": [
      "Input Sig: by mouth take three caps\n",
      "[['BY', 'PO', 'Method', 'Qty', 'Form']]\n"
     ]
    }
   ],
   "source": [
    "predictions = predict(\"by mouth take three caps\")\n"
   ]
  },
  {
   "cell_type": "code",
   "execution_count": 115,
   "metadata": {},
   "outputs": [
    {
     "name": "stdout",
     "output_type": "stream",
     "text": [
      "Input Sig: take 3 tabs orally three times a day for 10 days at bedtime\n",
      "[['Method', 'Qty', 'Form', 'Frequency', 'Qty', 'TIMES', 'Period', 'PeriodUnit', 'FOR', 'Duration', 'DurationUnit', 'AT', 'WHEN']]\n"
     ]
    }
   ],
   "source": [
    "predictions = predict(\"take 3 tabs orally three times a day for 10 days at bedtime\")\n"
   ]
  },
  {
   "cell_type": "code",
   "execution_count": 116,
   "metadata": {},
   "outputs": [
    {
     "name": "stdout",
     "output_type": "stream",
     "text": [
      "Input Sig: take 3 tabs orally bid for 10 days at bedtime\n",
      "[['Method', 'Qty', 'Form', 'Frequency', 'QID', 'FOR', 'Duration', 'DurationUnit', 'AT', 'WHEN']]\n"
     ]
    }
   ],
   "source": [
    "predictions = predict(\"take 3 tabs orally bid for 10 days at bedtime\")\n"
   ]
  },
  {
   "cell_type": "code",
   "execution_count": 117,
   "metadata": {},
   "outputs": [
    {
     "name": "stdout",
     "output_type": "stream",
     "text": [
      "Input Sig: take 3 tabs bid orally at bed\n",
      "[['Method', 'Qty', 'Form', 'Frequency', 'PeriodUnit', 'AT', 'WHEN']]\n"
     ]
    }
   ],
   "source": [
    "predictions = predict(\"take 3 tabs bid orally at bed\")\n"
   ]
  },
  {
   "cell_type": "code",
   "execution_count": 118,
   "metadata": {},
   "outputs": [
    {
     "name": "stdout",
     "output_type": "stream",
     "text": [
      "Input Sig: take 10 capsules by mouth qid\n",
      "[['Method', 'Qty', 'Form', 'BY', 'PO', 'QID']]\n"
     ]
    }
   ],
   "source": [
    "predictions = predict(\"take 10 capsules by mouth qid\")\n"
   ]
  },
  {
   "cell_type": "code",
   "execution_count": 119,
   "metadata": {},
   "outputs": [
    {
     "name": "stdout",
     "output_type": "stream",
     "text": [
      "Input Sig: inject 10 units orally qid x 3 months\n",
      "[['Method', 'Qty', 'Form', 'Frequency', 'QID', 'FOR', 'Duration', 'DurationUnit']]\n"
     ]
    }
   ],
   "source": [
    "predictions = predict(\"inject 10 units orally qid x 3 months\")\n"
   ]
  },
  {
   "cell_type": "code",
   "execution_count": 120,
   "metadata": {},
   "outputs": [
    {
     "name": "stdout",
     "output_type": "stream",
     "text": [
      "Input Sig: please take 2 tablets per day for a month in the morning and evening each day\n",
      "[['Method', 'Method', 'Qty', 'Form', 'Frequency', 'PeriodUnit', 'FOR', 'Period', 'PeriodUnit', 'EVERY', 'Period', 'PeriodUnit', 'AND', 'EVERY', 'Period', 'PeriodUnit']]\n"
     ]
    }
   ],
   "source": [
    "prediction = predict(\"please take 2 tablets per day for a month in the morning and evening each day\")\n"
   ]
  },
  {
   "cell_type": "code",
   "execution_count": 121,
   "metadata": {},
   "outputs": [
    {
     "name": "stdout",
     "output_type": "stream",
     "text": [
      "Input Sig: Amoxcicillin QID 30 tablets\n",
      "[['Method', 'Method', 'Qty', 'Form']]\n"
     ]
    }
   ],
   "source": [
    "prediction = predict(\"Amoxcicillin QID 30 tablets\")\n"
   ]
  },
  {
   "cell_type": "code",
   "execution_count": 122,
   "metadata": {},
   "outputs": [
    {
     "name": "stdout",
     "output_type": "stream",
     "text": [
      "Input Sig: take 3 tabs TID for 90 days with food\n",
      "[['Method', 'Qty', 'Form', 'Frequency', 'FOR', 'Duration', 'DurationUnit', 'WITH', 'FOOD']]\n"
     ]
    }
   ],
   "source": [
    "prediction = predict(\"take 3 tabs TID for 90 days with food\")\n"
   ]
  },
  {
   "cell_type": "code",
   "execution_count": 123,
   "metadata": {},
   "outputs": [
    {
     "name": "stdout",
     "output_type": "stream",
     "text": [
      "Input Sig: with food take 3 tablets per day for 90 days\n",
      "[['WITH', 'FOOD', 'Method', 'Qty', 'Form', 'Frequency', 'PeriodUnit', 'FOR', 'Duration', 'DurationUnit']]\n"
     ]
    }
   ],
   "source": [
    "prediction = predict(\"with food take 3 tablets per day for 90 days\")\n"
   ]
  },
  {
   "cell_type": "code",
   "execution_count": 124,
   "metadata": {},
   "outputs": [
    {
     "name": "stdout",
     "output_type": "stream",
     "text": [
      "Input Sig: with food take 3 tablets per week for 90 weeks\n",
      "[['WITH', 'FOOD', 'Method', 'Qty', 'Form', 'Frequency', 'PeriodUnit', 'FOR', 'Duration', 'DurationUnit']]\n"
     ]
    }
   ],
   "source": [
    "prediction = predict(\"with food take 3 tablets per week for 90 weeks\")\n"
   ]
  },
  {
   "cell_type": "code",
   "execution_count": 125,
   "metadata": {},
   "outputs": [
    {
     "name": "stdout",
     "output_type": "stream",
     "text": [
      "Input Sig: take 2-4 tabs\n",
      "[['Method', 'Qty', 'Form']]\n"
     ]
    }
   ],
   "source": [
    "prediction = predict(\"take 2-4 tabs\")\n"
   ]
  },
  {
   "cell_type": "code",
   "execution_count": 126,
   "metadata": {},
   "outputs": [
    {
     "name": "stdout",
     "output_type": "stream",
     "text": [
      "Input Sig: take 2 to 4 tabs\n",
      "[['Method', 'Qty', 'TO', 'Qty', 'Form']]\n"
     ]
    }
   ],
   "source": [
    "prediction = predict(\"take 2 to 4 tabs\")\n"
   ]
  },
  {
   "cell_type": "code",
   "execution_count": 127,
   "metadata": {},
   "outputs": [
    {
     "name": "stdout",
     "output_type": "stream",
     "text": [
      "Input Sig: take two to four tabs\n",
      "[['Method', 'Qty', 'TO', 'Qty', 'Form']]\n"
     ]
    }
   ],
   "source": [
    "prediction = predict(\"take two to four tabs\")\n"
   ]
  },
  {
   "cell_type": "code",
   "execution_count": 128,
   "metadata": {},
   "outputs": [
    {
     "name": "stdout",
     "output_type": "stream",
     "text": [
      "Input Sig: take 2-4 tabs for 8 to 9 days\n",
      "[['Method', 'Qty', 'Form', 'FOR', 'Duration', 'TO', 'PeriodMax', 'PeriodUnit']]\n"
     ]
    }
   ],
   "source": [
    "prediction = predict(\"take 2-4 tabs for 8 to 9 days\")\n"
   ]
  },
  {
   "cell_type": "code",
   "execution_count": 129,
   "metadata": {},
   "outputs": [
    {
     "name": "stdout",
     "output_type": "stream",
     "text": [
      "Input Sig: take 20 tabs every 6 to 8 days\n",
      "[['Method', 'Qty', 'Form', 'EVERY', 'Period', 'TO', 'PeriodMax', 'PeriodUnit']]\n"
     ]
    }
   ],
   "source": [
    "prediction = predict(\"take 20 tabs every 6 to 8 days\")\n"
   ]
  },
  {
   "cell_type": "code",
   "execution_count": 130,
   "metadata": {},
   "outputs": [
    {
     "name": "stdout",
     "output_type": "stream",
     "text": [
      "Input Sig: take 2 tabs every 4 to 6 days\n",
      "[['Method', 'Qty', 'Form', 'EVERY', 'Period', 'TO', 'PeriodMax', 'PeriodUnit']]\n"
     ]
    }
   ],
   "source": [
    "prediction = predict(\"take 2 tabs every 4 to 6 days\")\n"
   ]
  },
  {
   "cell_type": "code",
   "execution_count": 131,
   "metadata": {},
   "outputs": [
    {
     "name": "stdout",
     "output_type": "stream",
     "text": [
      "Input Sig: take 2 tabs every 2 to 10 weeks\n",
      "[['Method', 'Qty', 'Form', 'EVERY', 'Period', 'TO', 'Duration', 'DurationUnit']]\n"
     ]
    }
   ],
   "source": [
    "prediction = predict(\"take 2 tabs every 2 to 10 weeks\")\n"
   ]
  },
  {
   "cell_type": "code",
   "execution_count": 132,
   "metadata": {},
   "outputs": [
    {
     "name": "stdout",
     "output_type": "stream",
     "text": [
      "Input Sig: take 2 tabs every 4 to 6 days\n",
      "[['Method', 'Qty', 'Form', 'EVERY', 'Period', 'TO', 'PeriodMax', 'PeriodUnit']]\n"
     ]
    }
   ],
   "source": [
    "prediction = predict(\"take 2 tabs every 4 to 6 days\")\n"
   ]
  },
  {
   "cell_type": "code",
   "execution_count": 133,
   "metadata": {},
   "outputs": [
    {
     "name": "stdout",
     "output_type": "stream",
     "text": [
      "Input Sig: take 2 tabs every 2 to 10 months\n",
      "[['Method', 'Qty', 'Form', 'EVERY', 'Period', 'TO', 'PeriodMax', 'PeriodUnit']]\n"
     ]
    }
   ],
   "source": [
    "prediction = predict(\"take 2 tabs every 2 to 10 months\")\n"
   ]
  },
  {
   "cell_type": "code",
   "execution_count": 134,
   "metadata": {},
   "outputs": [
    {
     "name": "stdout",
     "output_type": "stream",
     "text": [
      "Input Sig: every 60 mins\n",
      "[['EVERY', 'Period', 'PeriodUnit']]\n"
     ]
    }
   ],
   "source": [
    "prediction = predict(\"every 60 mins\")\n"
   ]
  },
  {
   "cell_type": "code",
   "execution_count": 135,
   "metadata": {},
   "outputs": [
    {
     "name": "stdout",
     "output_type": "stream",
     "text": [
      "Input Sig: every 10 mins\n",
      "[['EVERY', 'Period', 'PeriodUnit']]\n"
     ]
    }
   ],
   "source": [
    "prediction = predict(\"every 10 mins\")\n"
   ]
  },
  {
   "cell_type": "code",
   "execution_count": 136,
   "metadata": {},
   "outputs": [
    {
     "name": "stdout",
     "output_type": "stream",
     "text": [
      "Input Sig: every two to four months\n",
      "[['EVERY', 'Period', 'TO', 'PeriodMax', 'PeriodUnit']]\n"
     ]
    }
   ],
   "source": [
    "prediction = predict(\"every two to four months\")\n"
   ]
  },
  {
   "cell_type": "code",
   "execution_count": 137,
   "metadata": {},
   "outputs": [
    {
     "name": "stdout",
     "output_type": "stream",
     "text": [
      "Input Sig: take 2 tabs every 3 to 4 days\n",
      "[['Method', 'Qty', 'Form', 'EVERY', 'Period', 'TO', 'PeriodMax', 'PeriodUnit']]\n"
     ]
    }
   ],
   "source": [
    "prediction = predict(\"take 2 tabs every 3 to 4 days\")\n"
   ]
  },
  {
   "cell_type": "code",
   "execution_count": 138,
   "metadata": {},
   "outputs": [
    {
     "name": "stdout",
     "output_type": "stream",
     "text": [
      "Input Sig: every 3 to 4 days take 20 tabs\n",
      "[['EVERY', 'Period', 'TO', 'Qty', 'Form', 'Method', 'Qty', 'Form']]\n"
     ]
    }
   ],
   "source": [
    "prediction = predict(\"every 3 to 4 days take 20 tabs\")\n"
   ]
  },
  {
   "cell_type": "code",
   "execution_count": 139,
   "metadata": {},
   "outputs": [
    {
     "name": "stdout",
     "output_type": "stream",
     "text": [
      "Input Sig: once in every 3 days take 3 tabs\n",
      "[['Qty', 'Form', 'EVERY', 'Period', 'PeriodUnit', 'Method', 'Qty', 'Form']]\n"
     ]
    }
   ],
   "source": [
    "prediction = predict(\"once in every 3 days take 3 tabs\")\n"
   ]
  },
  {
   "cell_type": "code",
   "execution_count": 140,
   "metadata": {},
   "outputs": [
    {
     "name": "stdout",
     "output_type": "stream",
     "text": [
      "Input Sig: take 3 tabs once in every 3 days\n",
      "[['Method', 'Qty', 'Form', 'Frequency', 'Period', 'EVERY', 'Period', 'PeriodUnit']]\n"
     ]
    }
   ],
   "source": [
    "prediction = predict(\"take 3 tabs once in every 3 days\")\n"
   ]
  },
  {
   "cell_type": "code",
   "execution_count": 141,
   "metadata": {},
   "outputs": [
    {
     "name": "stdout",
     "output_type": "stream",
     "text": [
      "Input Sig: orally take 20 tabs every 4-6 weeks\n",
      "[['Method', 'Method', 'Qty', 'Form', 'EVERY', 'Period', 'PeriodUnit']]\n"
     ]
    }
   ],
   "source": [
    "prediction = predict(\"orally take 20 tabs every 4-6 weeks\")\n"
   ]
  },
  {
   "cell_type": "code",
   "execution_count": 142,
   "metadata": {},
   "outputs": [
    {
     "name": "stdout",
     "output_type": "stream",
     "text": [
      "Input Sig: 10 tabs x 2 days\n",
      "[['Qty', 'Form', 'FOR', 'Duration', 'DurationUnit']]\n"
     ]
    }
   ],
   "source": [
    "prediction = predict(\"10 tabs x 2 days\")\n"
   ]
  },
  {
   "cell_type": "code",
   "execution_count": 143,
   "metadata": {},
   "outputs": [
    {
     "name": "stdout",
     "output_type": "stream",
     "text": [
      "Input Sig: 3 capsule x 15 days\n",
      "[['Qty', 'Form', 'FOR', 'Duration', 'DurationUnit']]\n"
     ]
    }
   ],
   "source": [
    "prediction = predict(\"3 capsule x 15 days\")\n"
   ]
  },
  {
   "cell_type": "code",
   "execution_count": 144,
   "metadata": {},
   "outputs": [
    {
     "name": "stdout",
     "output_type": "stream",
     "text": [
      "Input Sig: 10 tabs\n",
      "[['Qty', 'Form']]\n"
     ]
    }
   ],
   "source": [
    "prediction = predict(\"10 tabs\")\n"
   ]
  },
  {
   "cell_type": "code",
   "execution_count": null,
   "metadata": {},
   "outputs": [],
   "source": []
  }
 ],
 "metadata": {
  "kernelspec": {
   "display_name": "Python 3",
   "language": "python",
   "name": "python3"
  },
  "language_info": {
   "codemirror_mode": {
    "name": "ipython",
    "version": 3
   },
   "file_extension": ".py",
   "mimetype": "text/x-python",
   "name": "python",
   "nbconvert_exporter": "python",
   "pygments_lexer": "ipython3",
   "version": "3.7.4"
  }
 },
 "nbformat": 4,
 "nbformat_minor": 4
}
